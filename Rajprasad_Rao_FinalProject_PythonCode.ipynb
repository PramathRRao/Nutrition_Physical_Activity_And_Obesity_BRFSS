{
 "cells": [
  {
   "cell_type": "code",
   "execution_count": 62,
   "id": "3a922d97",
   "metadata": {},
   "outputs": [],
   "source": [
    "import pandas as pd\n",
    "\n",
    "# Load the CSV file\n",
    "file_path = \"C:/Users/acer/Downloads/Nutrition__Physical_Activity__and_Obesity_-_Behavioral_Risk_Factor_Surveillance_System.csv\"\n",
    "data = pd.read_csv(file_path)\n",
    "\n",
    "\n"
   ]
  },
  {
   "cell_type": "code",
   "execution_count": 63,
   "id": "efcc0ef2",
   "metadata": {},
   "outputs": [
    {
     "name": "stdout",
     "output_type": "stream",
     "text": [
      "   YearStart  YearEnd LocationAbbr LocationDesc  \\\n",
      "0       2020     2020           US     National   \n",
      "1       2014     2014           GU         Guam   \n",
      "2       2013     2013           US     National   \n",
      "3       2013     2013           US     National   \n",
      "4       2015     2015           US     National   \n",
      "\n",
      "                                   Datasource                    Class  \\\n",
      "0  Behavioral Risk Factor Surveillance System        Physical Activity   \n",
      "1  Behavioral Risk Factor Surveillance System  Obesity / Weight Status   \n",
      "2  Behavioral Risk Factor Surveillance System  Obesity / Weight Status   \n",
      "3  Behavioral Risk Factor Surveillance System  Obesity / Weight Status   \n",
      "4  Behavioral Risk Factor Surveillance System        Physical Activity   \n",
      "\n",
      "                          Topic  \\\n",
      "0  Physical Activity - Behavior   \n",
      "1       Obesity / Weight Status   \n",
      "2       Obesity / Weight Status   \n",
      "3       Obesity / Weight Status   \n",
      "4  Physical Activity - Behavior   \n",
      "\n",
      "                                            Question  Data_Value_Unit  \\\n",
      "0  Percent of adults who engage in no leisure-tim...              NaN   \n",
      "1  Percent of adults aged 18 years and older who ...              NaN   \n",
      "2  Percent of adults aged 18 years and older who ...              NaN   \n",
      "3  Percent of adults aged 18 years and older who ...              NaN   \n",
      "4  Percent of adults who achieve at least 300 min...              NaN   \n",
      "\n",
      "  Data_Value_Type  ...              GeoLocation  ClassID TopicID QuestionID  \\\n",
      "0           Value  ...                      NaN       PA     PA1       Q047   \n",
      "1           Value  ...  (13.444304, 144.793731)      OWS    OWS1       Q036   \n",
      "2           Value  ...                      NaN      OWS    OWS1       Q036   \n",
      "3           Value  ...                      NaN      OWS    OWS1       Q037   \n",
      "4           Value  ...                      NaN       PA     PA1       Q045   \n",
      "\n",
      "   DataValueTypeID  LocationID  StratificationCategory1       Stratification1  \\\n",
      "0            VALUE          59           Race/Ethnicity              Hispanic   \n",
      "1            VALUE          66                Education  High school graduate   \n",
      "2            VALUE          59                   Income     $50,000 - $74,999   \n",
      "3            VALUE          59                   Income     Data not reported   \n",
      "4            VALUE          59                   Income     Less than $15,000   \n",
      "\n",
      "  StratificationCategoryId1 StratificationID1  \n",
      "0                      RACE           RACEHIS  \n",
      "1                       EDU         EDUHSGRAD  \n",
      "2                       INC           INC5075  \n",
      "3                       INC             INCNR  \n",
      "4                       INC         INCLESS15  \n",
      "\n",
      "[5 rows x 33 columns]\n",
      "<class 'pandas.core.frame.DataFrame'>\n",
      "RangeIndex: 93249 entries, 0 to 93248\n",
      "Data columns (total 33 columns):\n",
      " #   Column                      Non-Null Count  Dtype  \n",
      "---  ------                      --------------  -----  \n",
      " 0   YearStart                   93249 non-null  int64  \n",
      " 1   YearEnd                     93249 non-null  int64  \n",
      " 2   LocationAbbr                93249 non-null  object \n",
      " 3   LocationDesc                93249 non-null  object \n",
      " 4   Datasource                  93249 non-null  object \n",
      " 5   Class                       93249 non-null  object \n",
      " 6   Topic                       93249 non-null  object \n",
      " 7   Question                    93249 non-null  object \n",
      " 8   Data_Value_Unit             0 non-null      float64\n",
      " 9   Data_Value_Type             93249 non-null  object \n",
      " 10  Data_Value                  84014 non-null  float64\n",
      " 11  Data_Value_Alt              84014 non-null  float64\n",
      " 12  Data_Value_Footnote_Symbol  9235 non-null   object \n",
      " 13  Data_Value_Footnote         9235 non-null   object \n",
      " 14  Low_Confidence_Limit        84014 non-null  float64\n",
      " 15  High_Confidence_Limit       84014 non-null  float64\n",
      " 16  Sample_Size                 84014 non-null  float64\n",
      " 17  Total                       3330 non-null   object \n",
      " 18  Age(years)                  19980 non-null  object \n",
      " 19  Education                   13320 non-null  object \n",
      " 20  Gender                      6660 non-null   object \n",
      " 21  Income                      23310 non-null  object \n",
      " 22  Race/Ethnicity              26640 non-null  object \n",
      " 23  GeoLocation                 91513 non-null  object \n",
      " 24  ClassID                     93249 non-null  object \n",
      " 25  TopicID                     93249 non-null  object \n",
      " 26  QuestionID                  93249 non-null  object \n",
      " 27  DataValueTypeID             93249 non-null  object \n",
      " 28  LocationID                  93249 non-null  int64  \n",
      " 29  StratificationCategory1     93240 non-null  object \n",
      " 30  Stratification1             93240 non-null  object \n",
      " 31  StratificationCategoryId1   93240 non-null  object \n",
      " 32  StratificationID1           93240 non-null  object \n",
      "dtypes: float64(6), int64(3), object(24)\n",
      "memory usage: 23.5+ MB\n",
      "None\n",
      "          YearStart       YearEnd  Data_Value_Unit    Data_Value  \\\n",
      "count  93249.000000  93249.000000              0.0  84014.000000   \n",
      "mean    2016.308068   2016.308068              NaN     31.226492   \n",
      "std        3.308679      3.308679              NaN     10.021059   \n",
      "min     2011.000000   2011.000000              NaN      0.900000   \n",
      "25%     2013.000000   2013.000000              NaN     24.400000   \n",
      "50%     2017.000000   2017.000000              NaN     31.200000   \n",
      "75%     2019.000000   2019.000000              NaN     37.000000   \n",
      "max     2022.000000   2022.000000              NaN     77.600000   \n",
      "\n",
      "       Data_Value_Alt  Low_Confidence_Limit  High_Confidence_Limit   \\\n",
      "count    84014.000000          84014.000000            84014.000000   \n",
      "mean        31.226492             26.890256               36.134303   \n",
      "std         10.021059              9.816064               10.978276   \n",
      "min          0.900000              0.300000                3.000000   \n",
      "25%         24.400000             20.100000               28.700000   \n",
      "50%         31.200000             26.900000               36.000000   \n",
      "75%         37.000000             32.900000               42.200000   \n",
      "max         77.600000             70.200000               87.700000   \n",
      "\n",
      "         Sample_Size    LocationID  \n",
      "count   84014.000000  93249.000000  \n",
      "mean     3649.343597     30.953447  \n",
      "std     18680.688957     17.532688  \n",
      "min        50.000000      1.000000  \n",
      "25%       511.000000     17.000000  \n",
      "50%      1103.000000     30.000000  \n",
      "75%      2405.000000     45.000000  \n",
      "max    476876.000000     78.000000  \n"
     ]
    }
   ],
   "source": [
    "print(data.head())\n",
    "print(data.info())\n",
    "print(data.describe())\n"
   ]
  },
  {
   "cell_type": "code",
   "execution_count": 64,
   "id": "986510f0",
   "metadata": {},
   "outputs": [],
   "source": [
    "#Drop unnecessary columns\n",
    "data = data.drop(['Datasource', 'Data_Value_Unit', 'Data_Value_Type','Data_Value_Alt','Data_Value_Footnote_Symbol', 'Data_Value_Footnote','Total','YearEnd'], axis=1)"
   ]
  },
  {
   "cell_type": "code",
   "execution_count": 65,
   "id": "261410da",
   "metadata": {},
   "outputs": [
    {
     "name": "stdout",
     "output_type": "stream",
     "text": [
      "   YearStart LocationAbbr LocationDesc                    Class  \\\n",
      "0       2020           US     National        Physical Activity   \n",
      "1       2014           GU         Guam  Obesity / Weight Status   \n",
      "2       2013           US     National  Obesity / Weight Status   \n",
      "3       2013           US     National  Obesity / Weight Status   \n",
      "4       2015           US     National        Physical Activity   \n",
      "\n",
      "                          Topic  \\\n",
      "0  Physical Activity - Behavior   \n",
      "1       Obesity / Weight Status   \n",
      "2       Obesity / Weight Status   \n",
      "3       Obesity / Weight Status   \n",
      "4  Physical Activity - Behavior   \n",
      "\n",
      "                                            Question  Data_Value  \\\n",
      "0  Percent of adults who engage in no leisure-tim...        30.6   \n",
      "1  Percent of adults aged 18 years and older who ...        29.3   \n",
      "2  Percent of adults aged 18 years and older who ...        28.8   \n",
      "3  Percent of adults aged 18 years and older who ...        32.7   \n",
      "4  Percent of adults who achieve at least 300 min...        26.6   \n",
      "\n",
      "   Low_Confidence_Limit  High_Confidence_Limit   Sample_Size  ...  \\\n",
      "0                  29.4                    31.8      31255.0  ...   \n",
      "1                  25.7                    33.3        842.0  ...   \n",
      "2                  28.1                    29.5      62562.0  ...   \n",
      "3                  31.9                    33.5      60069.0  ...   \n",
      "4                  25.6                    27.6      30904.0  ...   \n",
      "\n",
      "               GeoLocation ClassID TopicID QuestionID DataValueTypeID  \\\n",
      "0                      NaN      PA     PA1       Q047           VALUE   \n",
      "1  (13.444304, 144.793731)     OWS    OWS1       Q036           VALUE   \n",
      "2                      NaN     OWS    OWS1       Q036           VALUE   \n",
      "3                      NaN     OWS    OWS1       Q037           VALUE   \n",
      "4                      NaN      PA     PA1       Q045           VALUE   \n",
      "\n",
      "  LocationID StratificationCategory1       Stratification1  \\\n",
      "0         59          Race/Ethnicity              Hispanic   \n",
      "1         66               Education  High school graduate   \n",
      "2         59                  Income     $50,000 - $74,999   \n",
      "3         59                  Income     Data not reported   \n",
      "4         59                  Income     Less than $15,000   \n",
      "\n",
      "  StratificationCategoryId1 StratificationID1  \n",
      "0                      RACE           RACEHIS  \n",
      "1                       EDU         EDUHSGRAD  \n",
      "2                       INC           INC5075  \n",
      "3                       INC             INCNR  \n",
      "4                       INC         INCLESS15  \n",
      "\n",
      "[5 rows x 25 columns]\n"
     ]
    }
   ],
   "source": [
    "print(data.head())"
   ]
  },
  {
   "cell_type": "code",
   "execution_count": 66,
   "id": "526d4526",
   "metadata": {},
   "outputs": [
    {
     "name": "stdout",
     "output_type": "stream",
     "text": [
      "   Year LocationAbbr LocationDesc                    Class  \\\n",
      "0  2020           US     National        Physical Activity   \n",
      "1  2014           GU         Guam  Obesity / Weight Status   \n",
      "2  2013           US     National  Obesity / Weight Status   \n",
      "3  2013           US     National  Obesity / Weight Status   \n",
      "4  2015           US     National        Physical Activity   \n",
      "\n",
      "                          Topic  \\\n",
      "0  Physical Activity - Behavior   \n",
      "1       Obesity / Weight Status   \n",
      "2       Obesity / Weight Status   \n",
      "3       Obesity / Weight Status   \n",
      "4  Physical Activity - Behavior   \n",
      "\n",
      "                                            Question  Data_Value  \\\n",
      "0  Percent of adults who engage in no leisure-tim...        30.6   \n",
      "1  Percent of adults aged 18 years and older who ...        29.3   \n",
      "2  Percent of adults aged 18 years and older who ...        28.8   \n",
      "3  Percent of adults aged 18 years and older who ...        32.7   \n",
      "4  Percent of adults who achieve at least 300 min...        26.6   \n",
      "\n",
      "   Low_Confidence_Limit  High_Confidence_Limit   Sample_Size  ...  \\\n",
      "0                  29.4                    31.8      31255.0  ...   \n",
      "1                  25.7                    33.3        842.0  ...   \n",
      "2                  28.1                    29.5      62562.0  ...   \n",
      "3                  31.9                    33.5      60069.0  ...   \n",
      "4                  25.6                    27.6      30904.0  ...   \n",
      "\n",
      "               GeoLocation ClassID TopicID QuestionID DataValueTypeID  \\\n",
      "0                      NaN      PA     PA1       Q047           VALUE   \n",
      "1  (13.444304, 144.793731)     OWS    OWS1       Q036           VALUE   \n",
      "2                      NaN     OWS    OWS1       Q036           VALUE   \n",
      "3                      NaN     OWS    OWS1       Q037           VALUE   \n",
      "4                      NaN      PA     PA1       Q045           VALUE   \n",
      "\n",
      "  LocationID StratificationCategory1       Stratification1  \\\n",
      "0         59          Race/Ethnicity              Hispanic   \n",
      "1         66               Education  High school graduate   \n",
      "2         59                  Income     $50,000 - $74,999   \n",
      "3         59                  Income     Data not reported   \n",
      "4         59                  Income     Less than $15,000   \n",
      "\n",
      "  StratificationCategoryId1 StratificationID1  \n",
      "0                      RACE           RACEHIS  \n",
      "1                       EDU         EDUHSGRAD  \n",
      "2                       INC           INC5075  \n",
      "3                       INC             INCNR  \n",
      "4                       INC         INCLESS15  \n",
      "\n",
      "[5 rows x 25 columns]\n"
     ]
    }
   ],
   "source": [
    "#Rename the column name\n",
    "data.rename(columns={'YearStart': 'Year'}, inplace=True)\n",
    "print(data.head())"
   ]
  },
  {
   "cell_type": "code",
   "execution_count": 67,
   "id": "cb653153",
   "metadata": {},
   "outputs": [
    {
     "name": "stdout",
     "output_type": "stream",
     "text": [
      "Year                             0\n",
      "LocationAbbr                     0\n",
      "LocationDesc                     0\n",
      "Class                            0\n",
      "Topic                            0\n",
      "Question                         0\n",
      "Data_Value                    9235\n",
      "Low_Confidence_Limit          9235\n",
      "High_Confidence_Limit         9235\n",
      "Sample_Size                   9235\n",
      "Age(years)                   73269\n",
      "Education                    79929\n",
      "Gender                       86589\n",
      "Income                       69939\n",
      "Race/Ethnicity               66609\n",
      "GeoLocation                   1736\n",
      "ClassID                          0\n",
      "TopicID                          0\n",
      "QuestionID                       0\n",
      "DataValueTypeID                  0\n",
      "LocationID                       0\n",
      "StratificationCategory1          9\n",
      "Stratification1                  9\n",
      "StratificationCategoryId1        9\n",
      "StratificationID1                9\n",
      "dtype: int64\n"
     ]
    }
   ],
   "source": [
    "# Check for missing values\n",
    "print(data.isnull().sum())"
   ]
  },
  {
   "cell_type": "code",
   "execution_count": 68,
   "id": "5dc5d1e1",
   "metadata": {},
   "outputs": [],
   "source": [
    "data.fillna('NULL', inplace=True)"
   ]
  },
  {
   "cell_type": "code",
   "execution_count": 69,
   "id": "b693ad3b",
   "metadata": {},
   "outputs": [
    {
     "name": "stdout",
     "output_type": "stream",
     "text": [
      "   Year LocationAbbr LocationDesc                    Class  \\\n",
      "0  2020           US     National        Physical Activity   \n",
      "1  2014           GU         Guam  Obesity / Weight Status   \n",
      "2  2013           US     National  Obesity / Weight Status   \n",
      "3  2013           US     National  Obesity / Weight Status   \n",
      "4  2015           US     National        Physical Activity   \n",
      "\n",
      "                          Topic  \\\n",
      "0  Physical Activity - Behavior   \n",
      "1       Obesity / Weight Status   \n",
      "2       Obesity / Weight Status   \n",
      "3       Obesity / Weight Status   \n",
      "4  Physical Activity - Behavior   \n",
      "\n",
      "                                            Question Data_Value  \\\n",
      "0  Percent of adults who engage in no leisure-tim...       30.6   \n",
      "1  Percent of adults aged 18 years and older who ...       29.3   \n",
      "2  Percent of adults aged 18 years and older who ...       28.8   \n",
      "3  Percent of adults aged 18 years and older who ...       32.7   \n",
      "4  Percent of adults who achieve at least 300 min...       26.6   \n",
      "\n",
      "  Low_Confidence_Limit High_Confidence_Limit  Sample_Size  ...  \\\n",
      "0                 29.4                   31.8     31255.0  ...   \n",
      "1                 25.7                   33.3       842.0  ...   \n",
      "2                 28.1                   29.5     62562.0  ...   \n",
      "3                 31.9                   33.5     60069.0  ...   \n",
      "4                 25.6                   27.6     30904.0  ...   \n",
      "\n",
      "               GeoLocation ClassID TopicID QuestionID DataValueTypeID  \\\n",
      "0                     NULL      PA     PA1       Q047           VALUE   \n",
      "1  (13.444304, 144.793731)     OWS    OWS1       Q036           VALUE   \n",
      "2                     NULL     OWS    OWS1       Q036           VALUE   \n",
      "3                     NULL     OWS    OWS1       Q037           VALUE   \n",
      "4                     NULL      PA     PA1       Q045           VALUE   \n",
      "\n",
      "  LocationID StratificationCategory1       Stratification1  \\\n",
      "0         59          Race/Ethnicity              Hispanic   \n",
      "1         66               Education  High school graduate   \n",
      "2         59                  Income     $50,000 - $74,999   \n",
      "3         59                  Income     Data not reported   \n",
      "4         59                  Income     Less than $15,000   \n",
      "\n",
      "  StratificationCategoryId1 StratificationID1  \n",
      "0                      RACE           RACEHIS  \n",
      "1                       EDU         EDUHSGRAD  \n",
      "2                       INC           INC5075  \n",
      "3                       INC             INCNR  \n",
      "4                       INC         INCLESS15  \n",
      "\n",
      "[5 rows x 25 columns]\n"
     ]
    }
   ],
   "source": [
    "print(data.head())"
   ]
  },
  {
   "cell_type": "code",
   "execution_count": 50,
   "id": "0547e35f",
   "metadata": {},
   "outputs": [],
   "source": [
    "#Save the clean dataset\n",
    "data.to_csv(\"C:/Users/acer/Downloads/nutrition_data.csv\", index=False)"
   ]
  },
  {
   "cell_type": "code",
   "execution_count": 70,
   "id": "e0faf082",
   "metadata": {},
   "outputs": [],
   "source": [
    "path = \"C:/Users/acer/Downloads/nutrition_data.csv\"\n",
    "clean_data = pd.read_csv(path)"
   ]
  },
  {
   "cell_type": "code",
   "execution_count": 71,
   "id": "bbfdbad2",
   "metadata": {},
   "outputs": [],
   "source": [
    "# Filter the data for obesity-related questions and where stratification is by education\n",
    "obesity_education_data =  clean_data[\n",
    "    (clean_data['Class'] == 'Obesity / Weight Status') &\n",
    "    (clean_data['StratificationCategory1'] == 'Education')\n",
    "]\n",
    "\n"
   ]
  },
  {
   "cell_type": "code",
   "execution_count": 72,
   "id": "19a7eb5c",
   "metadata": {},
   "outputs": [
    {
     "name": "stdout",
     "output_type": "stream",
     "text": [
      "['Percent of adults aged 18 years and older who have obesity'\n",
      " 'Percent of adults aged 18 years and older who have an overweight classification']\n"
     ]
    }
   ],
   "source": [
    "# Check if the data includes specific questions about prevalence, or else list questions\n",
    "print(obesity_education_data['Question'].unique())\n",
    "\n"
   ]
  },
  {
   "cell_type": "code",
   "execution_count": 73,
   "id": "115de860",
   "metadata": {},
   "outputs": [
    {
     "name": "stdout",
     "output_type": "stream",
     "text": [
      "float64\n"
     ]
    }
   ],
   "source": [
    "# Check the data type of 'Data_Value'\n",
    "print(obesity_education_data['Data_Value'].dtype)\n",
    "\n",
    "# If it's not numeric, convert it\n",
    "if not pd.api.types.is_numeric_dtype(obesity_education_data['Data_Value']):\n",
    "    obesity_education_data['Data_Value'] = pd.to_numeric(obesity_education_data['Data_Value'], errors='coerce')\n"
   ]
  },
  {
   "cell_type": "code",
   "execution_count": 74,
   "id": "929304de",
   "metadata": {},
   "outputs": [
    {
     "name": "stdout",
     "output_type": "stream",
     "text": [
      "Stratification1  College graduate  High school graduate  \\\n",
      "Year                                                      \n",
      "2011                    29.301923             32.778846   \n",
      "2012                    29.552885             33.050000   \n",
      "2013                    29.796226             33.158491   \n",
      "2014                    30.065741             33.250000   \n",
      "2015                    30.262037             33.369444   \n",
      "2016                    30.552727             33.237273   \n",
      "2017                    30.937037             33.780556   \n",
      "2018                    31.316667             33.801852   \n",
      "2019                    31.728302             34.138679   \n",
      "2020                    31.609259             33.994444   \n",
      "2021                    32.332407             34.476852   \n",
      "2022                    32.734545             34.269091   \n",
      "\n",
      "Stratification1  Less than high school  Some college or technical school  \n",
      "Year                                                                      \n",
      "2011                         32.721154                         31.899038  \n",
      "2012                         33.106731                         32.152885  \n",
      "2013                         33.488679                         32.446226  \n",
      "2014                         33.512037                         32.755556  \n",
      "2015                         34.135185                         32.844444  \n",
      "2016                         33.919091                         33.250000  \n",
      "2017                         34.062037                         33.587963  \n",
      "2018                         33.976852                         33.740741  \n",
      "2019                         34.629245                         34.083962  \n",
      "2020                         34.746296                         34.334259  \n",
      "2021                         34.335185                         34.790741  \n",
      "2022                         34.634545                         35.081818  \n"
     ]
    }
   ],
   "source": [
    "pivot_table = obesity_education_data.pivot_table(\n",
    "    values='Data_Value',\n",
    "    index='Year',\n",
    "    columns='Stratification1',\n",
    "    aggfunc='mean'\n",
    ")\n",
    "print(pivot_table)\n",
    "\n",
    "\n"
   ]
  },
  {
   "cell_type": "code",
   "execution_count": 76,
   "id": "2ebca8a7",
   "metadata": {},
   "outputs": [],
   "source": [
    "# Calculate the correlation matrix\n",
    "correlation_matrix = pivot_table.corr()\n",
    "\n"
   ]
  },
  {
   "cell_type": "code",
   "execution_count": 77,
   "id": "28e313c9",
   "metadata": {},
   "outputs": [
    {
     "data": {
      "text/html": [
       "<div>\n",
       "<style scoped>\n",
       "    .dataframe tbody tr th:only-of-type {\n",
       "        vertical-align: middle;\n",
       "    }\n",
       "\n",
       "    .dataframe tbody tr th {\n",
       "        vertical-align: top;\n",
       "    }\n",
       "\n",
       "    .dataframe thead th {\n",
       "        text-align: right;\n",
       "    }\n",
       "</style>\n",
       "<table border=\"1\" class=\"dataframe\">\n",
       "  <thead>\n",
       "    <tr style=\"text-align: right;\">\n",
       "      <th>Stratification1</th>\n",
       "      <th>College graduate</th>\n",
       "      <th>High school graduate</th>\n",
       "      <th>Less than high school</th>\n",
       "      <th>Some college or technical school</th>\n",
       "    </tr>\n",
       "    <tr>\n",
       "      <th>Stratification1</th>\n",
       "      <th></th>\n",
       "      <th></th>\n",
       "      <th></th>\n",
       "      <th></th>\n",
       "    </tr>\n",
       "  </thead>\n",
       "  <tbody>\n",
       "    <tr>\n",
       "      <th>College graduate</th>\n",
       "      <td>1.000000</td>\n",
       "      <td>0.971158</td>\n",
       "      <td>0.883151</td>\n",
       "      <td>0.994806</td>\n",
       "    </tr>\n",
       "    <tr>\n",
       "      <th>High school graduate</th>\n",
       "      <td>0.971158</td>\n",
       "      <td>1.000000</td>\n",
       "      <td>0.879299</td>\n",
       "      <td>0.966473</td>\n",
       "    </tr>\n",
       "    <tr>\n",
       "      <th>Less than high school</th>\n",
       "      <td>0.883151</td>\n",
       "      <td>0.879299</td>\n",
       "      <td>1.000000</td>\n",
       "      <td>0.899499</td>\n",
       "    </tr>\n",
       "    <tr>\n",
       "      <th>Some college or technical school</th>\n",
       "      <td>0.994806</td>\n",
       "      <td>0.966473</td>\n",
       "      <td>0.899499</td>\n",
       "      <td>1.000000</td>\n",
       "    </tr>\n",
       "  </tbody>\n",
       "</table>\n",
       "</div>"
      ],
      "text/plain": [
       "Stratification1                   College graduate  High school graduate  \\\n",
       "Stratification1                                                            \n",
       "College graduate                          1.000000              0.971158   \n",
       "High school graduate                      0.971158              1.000000   \n",
       "Less than high school                     0.883151              0.879299   \n",
       "Some college or technical school          0.994806              0.966473   \n",
       "\n",
       "Stratification1                   Less than high school  \\\n",
       "Stratification1                                           \n",
       "College graduate                               0.883151   \n",
       "High school graduate                           0.879299   \n",
       "Less than high school                          1.000000   \n",
       "Some college or technical school               0.899499   \n",
       "\n",
       "Stratification1                   Some college or technical school  \n",
       "Stratification1                                                     \n",
       "College graduate                                          0.994806  \n",
       "High school graduate                                      0.966473  \n",
       "Less than high school                                     0.899499  \n",
       "Some college or technical school                          1.000000  "
      ]
     },
     "execution_count": 77,
     "metadata": {},
     "output_type": "execute_result"
    }
   ],
   "source": [
    "# Display the correlation matrix\n",
    "correlation_matrix"
   ]
  },
  {
   "cell_type": "code",
   "execution_count": 78,
   "id": "2d847180",
   "metadata": {},
   "outputs": [],
   "source": [
    "import matplotlib.pyplot as plt\n",
    "\n",
    "\n"
   ]
  },
  {
   "cell_type": "code",
   "execution_count": 79,
   "id": "d5f04761",
   "metadata": {},
   "outputs": [
    {
     "data": {
      "image/png": "[encoded data removed]",
      "text/plain": [
       "<Figure size 1000x600 with 1 Axes>"
      ]
     },
     "metadata": {},
     "output_type": "display_data"
    }
   ],
   "source": [
    "# Create a line plot to visualize obesity trends by education level\n",
    "plt.figure(figsize=(10, 6))\n",
    "for column in pivot_table.columns:\n",
    "    plt.plot(pivot_table.index, pivot_table[column], label=column)\n",
    "\n",
    "plt.title('Obesity Rates by Education Level Over Time')\n",
    "plt.xlabel('Year')\n",
    "plt.ylabel('Average Obesity Rate (%)')\n",
    "plt.legend(title='Education Level')\n",
    "plt.grid(True)\n",
    "plt.show()"
   ]
  },
  {
   "cell_type": "code",
   "execution_count": null,
   "id": "c8c505aa",
   "metadata": {},
   "outputs": [],
   "source": []
  }
 ],
 "metadata": {
  "kernelspec": {
   "display_name": "Python 3 (ipykernel)",
   "language": "python",
   "name": "python3"
  },
  "language_info": {
   "codemirror_mode": {
    "name": "ipython",
    "version": 3
   },
   "file_extension": ".py",
   "mimetype": "text/x-python",
   "name": "python",
   "nbconvert_exporter": "python",
   "pygments_lexer": "ipython3",
   "version": "3.11.5"
  }
 },
 "nbformat": 4,
 "nbformat_minor": 5
}
